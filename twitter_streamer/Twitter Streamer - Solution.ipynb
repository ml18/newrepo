{
 "cells": [
  {
   "cell_type": "markdown",
   "metadata": {},
   "source": [
    "Use `pip` to install `twitter`."
   ]
  },
  {
   "cell_type": "code",
   "execution_count": null,
   "metadata": {},
   "outputs": [],
   "source": []
  },
  {
   "cell_type": "markdown",
   "metadata": {},
   "source": [
    "Import `TwitterStream` and `OAuth` from `twitter`."
   ]
  },
  {
   "cell_type": "code",
   "execution_count": 2,
   "metadata": {},
   "outputs": [],
   "source": [
    "from twitter import TwitterStream\n",
    "from twitter import OAuth"
   ]
  },
  {
   "cell_type": "markdown",
   "metadata": {},
   "source": [
    "### `oauth`"
   ]
  },
  {
   "cell_type": "markdown",
   "metadata": {},
   "source": [
    "Create a new object called `oauth` using `OAuth`. \n",
    "\n",
    "    OAuth(token, token_secret, consumer_key, consumer_secret)"
   ]
  },
  {
   "cell_type": "code",
   "execution_count": 3,
   "metadata": {},
   "outputs": [],
   "source": [
    "token           = \"12270642-q4TpmpZD8v6ZNIBIS7W4N8jaC5aY2c4ThHIOpnMjX\"\n",
    "token_secret    = \"Wqa7b9QVZCCAqXCpuH2T554S7CHdfHktKWrxs8hzjYXJe\"\n",
    "consumer_key    = \"Jt9H3ve228Tl8yafi4Ip8Iwbw\"\n",
    "consumer_secret = \"xXxkq7QM1D7K1w0tFKRIYYviS2EQ288jzbbiwzEYYRQrMyvCDN\""
   ]
  },
  {
   "cell_type": "code",
   "execution_count": 4,
   "metadata": {},
   "outputs": [],
   "source": [
    "oauth = OAuth(token, token_secret, consumer_key, consumer_secret)"
   ]
  },
  {
   "cell_type": "markdown",
   "metadata": {},
   "source": [
    "Create a new object called `twitter_stream` using `TwitterStream`.\n",
    "\n",
    "Use the argument `auth=oauth` referencing the `oauth` object you just made."
   ]
  },
  {
   "cell_type": "markdown",
   "metadata": {},
   "source": [
    "### `twitter_stream`"
   ]
  },
  {
   "cell_type": "code",
   "execution_count": 6,
   "metadata": {},
   "outputs": [],
   "source": [
    "twitter_stream = TwitterStream(auth=oauth)"
   ]
  },
  {
   "cell_type": "markdown",
   "metadata": {},
   "source": [
    "### `bounding_box`"
   ]
  },
  {
   "cell_type": "markdown",
   "metadata": {},
   "source": [
    "Create a string called `bounding_box`. The string should contain the geo-coordinates of a bounding box separated by commas. These values are for Santa Monica:\n",
    "\n",
    "    -118.5137323688,34.0001996344,-118.4702449172,34.0331651696\n",
    "    \n",
    "You can make your own here: https://boundingbox.klokantech.com. Be sure to specify CSV RAW to get the values in this format.\n",
    "\n",
    "![](https://www.evernote.com/l/AAH3H9KGE6hD9JpPJPFncw09exRyoYSid5IB/image.png)"
   ]
  },
  {
   "cell_type": "code",
   "execution_count": 10,
   "metadata": {},
   "outputs": [],
   "source": [
    "bounding_box = \"-118.5137323688,34.0001996344,-118.4702449172,34.0331651696\""
   ]
  },
  {
   "cell_type": "markdown",
   "metadata": {},
   "source": [
    "### `tweet_iterator`\n",
    "\n",
    "Create an object called `tweet_iterator`. \n",
    "\n",
    "1. Use `twitter_stream`.\n",
    "1. Apply `.statuses` to grab statuses.\n",
    "1. Apply a `.filter()` with the argument `locations=bounding_box`."
   ]
  },
  {
   "cell_type": "code",
   "execution_count": 11,
   "metadata": {},
   "outputs": [],
   "source": [
    "tweet_iterator = twitter_stream.statuses.filter(locations=bounding_box)"
   ]
  },
  {
   "cell_type": "markdown",
   "metadata": {},
   "source": [
    "Get the next value from the `tweet_iterator` and store it as the variable `this_tweet`."
   ]
  },
  {
   "cell_type": "code",
   "execution_count": 13,
   "metadata": {},
   "outputs": [],
   "source": [
    "this_tweet = next(tweet_iterator)"
   ]
  },
  {
   "cell_type": "markdown",
   "metadata": {},
   "source": [
    "\n",
    "What is the type of `this_tweet`?"
   ]
  },
  {
   "cell_type": "code",
   "execution_count": null,
   "metadata": {},
   "outputs": [],
   "source": []
  },
  {
   "cell_type": "markdown",
   "metadata": {},
   "source": [
    "Display the keys of `this_tweet`."
   ]
  },
  {
   "cell_type": "code",
   "execution_count": 14,
   "metadata": {},
   "outputs": [
    {
     "data": {
      "text/plain": [
       "dict_keys(['created_at', 'id', 'id_str', 'text', 'source', 'truncated', 'in_reply_to_status_id', 'in_reply_to_status_id_str', 'in_reply_to_user_id', 'in_reply_to_user_id_str', 'in_reply_to_screen_name', 'user', 'geo', 'coordinates', 'place', 'contributors', 'is_quote_status', 'quote_count', 'reply_count', 'retweet_count', 'favorite_count', 'entities', 'favorited', 'retweeted', 'filter_level', 'lang', 'timestamp_ms'])"
      ]
     },
     "execution_count": 14,
     "metadata": {},
     "output_type": "execute_result"
    }
   ],
   "source": [
    "this_tweet.keys()"
   ]
  },
  {
   "cell_type": "markdown",
   "metadata": {},
   "source": [
    "Display the `text` and `user` of `this_tweet`."
   ]
  },
  {
   "cell_type": "code",
   "execution_count": 16,
   "metadata": {},
   "outputs": [
    {
     "data": {
      "text/plain": [
       "'Chance the Rapper with that “Boy meets world, everybody been savages” line'"
      ]
     },
     "execution_count": 16,
     "metadata": {},
     "output_type": "execute_result"
    }
   ],
   "source": [
    "this_tweet['text']"
   ]
  },
  {
   "cell_type": "code",
   "execution_count": 17,
   "metadata": {},
   "outputs": [
    {
     "data": {
      "text/plain": [
       "{'id': 1285231884,\n",
       " 'id_str': '1285231884',\n",
       " 'name': 'Kaitlyn Adams',\n",
       " 'screen_name': 'Kait2lyn',\n",
       " 'location': 'Los Angeles, CA',\n",
       " 'url': 'http://Instagram.com/kait2lyn',\n",
       " 'description': 'My mother’s love was always inexplicably linked to kickball.',\n",
       " 'translator_type': 'none',\n",
       " 'protected': False,\n",
       " 'verified': False,\n",
       " 'followers_count': 460,\n",
       " 'friends_count': 516,\n",
       " 'listed_count': 4,\n",
       " 'favourites_count': 31091,\n",
       " 'statuses_count': 5165,\n",
       " 'created_at': 'Thu Mar 21 06:38:06 +0000 2013',\n",
       " 'utc_offset': None,\n",
       " 'time_zone': None,\n",
       " 'geo_enabled': True,\n",
       " 'lang': 'en',\n",
       " 'contributors_enabled': False,\n",
       " 'is_translator': False,\n",
       " 'profile_background_color': '000000',\n",
       " 'profile_background_image_url': 'http://abs.twimg.com/images/themes/theme1/bg.png',\n",
       " 'profile_background_image_url_https': 'https://abs.twimg.com/images/themes/theme1/bg.png',\n",
       " 'profile_background_tile': False,\n",
       " 'profile_link_color': 'ABB8C2',\n",
       " 'profile_sidebar_border_color': '000000',\n",
       " 'profile_sidebar_fill_color': '000000',\n",
       " 'profile_text_color': '000000',\n",
       " 'profile_use_background_image': False,\n",
       " 'profile_image_url': 'http://pbs.twimg.com/profile_images/898284355931389952/rPCqMqHK_normal.jpg',\n",
       " 'profile_image_url_https': 'https://pbs.twimg.com/profile_images/898284355931389952/rPCqMqHK_normal.jpg',\n",
       " 'profile_banner_url': 'https://pbs.twimg.com/profile_banners/1285231884/1515113944',\n",
       " 'default_profile': False,\n",
       " 'default_profile_image': False,\n",
       " 'following': None,\n",
       " 'follow_request_sent': None,\n",
       " 'notifications': None}"
      ]
     },
     "execution_count": 17,
     "metadata": {},
     "output_type": "execute_result"
    }
   ],
   "source": [
    "this_tweet['user']"
   ]
  },
  {
   "cell_type": "markdown",
   "metadata": {},
   "source": [
    "## Collect Tweets\n",
    "\n",
    "Create an empty list called `tweets`.\n",
    "\n",
    "Use a `for`-loop to collect ten tweets and add them to this list."
   ]
  },
  {
   "cell_type": "code",
   "execution_count": 20,
   "metadata": {},
   "outputs": [],
   "source": [
    "tweets = []\n",
    "for _ in range(10):\n",
    "    tweets.append(next(tweet_iterator))"
   ]
  },
  {
   "cell_type": "markdown",
   "metadata": {},
   "source": [
    "Display `tweets` in a DataFrame."
   ]
  },
  {
   "cell_type": "code",
   "execution_count": 21,
   "metadata": {},
   "outputs": [],
   "source": [
    "import pandas as pd"
   ]
  },
  {
   "cell_type": "markdown",
   "metadata": {},
   "source": [
    "Display just the test of the tweets using DataFrame."
   ]
  },
  {
   "cell_type": "code",
   "execution_count": 23,
   "metadata": {},
   "outputs": [
    {
     "data": {
      "text/plain": [
       "0                          @Milesba03 hahahha sayo lol\n",
       "1    Bitch I cried to ramon ayala already when I wa...\n",
       "2    \"Israel has set Friday as a deadline for the f...\n",
       "3           @BabyGo2014 Same too you...Good Morning❤❤❤\n",
       "4    Fucked up and got your muthafuckin throat cut ...\n",
       "5    @RobertaSchell That's amazing!  She must have ...\n",
       "6    @LILUZIVERT has all the metal cred he’s going ...\n",
       "7    Plans for after work: Catch a Mew Two and begi...\n",
       "8    I started ignoring that bitch lmao she went crazy\n",
       "9          @dodo Keep up the good work Trap King 🐱#TNR\n",
       "Name: text, dtype: object"
      ]
     },
     "execution_count": 23,
     "metadata": {},
     "output_type": "execute_result"
    }
   ],
   "source": [
    "pd.DataFrame(tweets).text"
   ]
  },
  {
   "cell_type": "markdown",
   "metadata": {},
   "source": [
    "What is the type of `tweets`?"
   ]
  },
  {
   "cell_type": "code",
   "execution_count": 24,
   "metadata": {},
   "outputs": [
    {
     "data": {
      "text/plain": [
       "list"
      ]
     },
     "execution_count": 24,
     "metadata": {},
     "output_type": "execute_result"
    }
   ],
   "source": [
    "type(tweets)"
   ]
  },
  {
   "cell_type": "markdown",
   "metadata": {},
   "source": [
    "Write a list comprehension to display the type of each of the objects in `tweets`."
   ]
  },
  {
   "cell_type": "code",
   "execution_count": 25,
   "metadata": {},
   "outputs": [
    {
     "data": {
      "text/plain": [
       "[twitter.api.TwitterDictResponse,\n",
       " twitter.api.TwitterDictResponse,\n",
       " twitter.api.TwitterDictResponse,\n",
       " twitter.api.TwitterDictResponse,\n",
       " twitter.api.TwitterDictResponse,\n",
       " twitter.api.TwitterDictResponse,\n",
       " twitter.api.TwitterDictResponse,\n",
       " twitter.api.TwitterDictResponse,\n",
       " twitter.api.TwitterDictResponse,\n",
       " twitter.api.TwitterDictResponse]"
      ]
     },
     "execution_count": 25,
     "metadata": {},
     "output_type": "execute_result"
    }
   ],
   "source": [
    "[type(tw) for tw in tweets]"
   ]
  },
  {
   "cell_type": "markdown",
   "metadata": {},
   "source": [
    "Import the `json` library."
   ]
  },
  {
   "cell_type": "code",
   "execution_count": 26,
   "metadata": {},
   "outputs": [],
   "source": [
    "import json"
   ]
  },
  {
   "cell_type": "markdown",
   "metadata": {},
   "source": [
    "Create an object called `tweets_string` using `json.dumps()`.\n",
    "\n",
    "Display the first 500 characters of this string. "
   ]
  },
  {
   "cell_type": "code",
   "execution_count": 34,
   "metadata": {},
   "outputs": [
    {
     "data": {
      "text/plain": [
       "'[{\"created_at\": \"Thu Jul 19 18:04:00 +0000 2018\", \"id\": 1020006356286242816, \"id_str\": \"1020006356286242816\", \"text\": \"@Milesba03 hahahha sayo lol\", \"display_text_range\": [11, 27], \"source\": \"<a href=\\\\\"http://twitter.com/download/iphone\\\\\" rel=\\\\\"nofollow\\\\\">Twitter for iPhone</a>\", \"truncated\": false, \"in_reply_to_status_id\": 1019971832978403328, \"in_reply_to_status_id_str\": \"1019971832978403328\", \"in_reply_to_user_id\": 4398494478, \"in_reply_to_user_id_str\": \"4398494478\", \"in_reply_to_screen_name\"'"
      ]
     },
     "execution_count": 34,
     "metadata": {},
     "output_type": "execute_result"
    }
   ],
   "source": [
    "json.dumps(tweets)[:500]"
   ]
  },
  {
   "cell_type": "markdown",
   "metadata": {},
   "source": [
    "## Write Tweets to Disk\n",
    "\n",
    "Using this pattern\n",
    "\n",
    "    with open(filename_as_string, 'w') as outfile:\n",
    "        json.dump(python_object, outfile)\n",
    "        \n",
    "write `tweets` to disk as json."
   ]
  },
  {
   "cell_type": "code",
   "execution_count": 30,
   "metadata": {},
   "outputs": [],
   "source": [
    "with open('data.json', 'w') as outfile:\n",
    "    json.dump(tweets, outfile)"
   ]
  },
  {
   "cell_type": "markdown",
   "metadata": {},
   "source": [
    "## Read Tweets from Disk\n",
    "\n",
    "Using this pattern\n",
    "\n",
    "    with open(filename_as_string) as infile:\n",
    "        json_data=infile.read()\n",
    "        python_object_from_disk = json.loads(json_data)\n",
    "        \n",
    "read the tweets from the json. Store them as `tweets_from_disk`."
   ]
  },
  {
   "cell_type": "code",
   "execution_count": 32,
   "metadata": {},
   "outputs": [],
   "source": [
    "with open('data.json') as infile:\n",
    "    json_data=infile.read()\n",
    "    tweets_from_disk = json.loads(json_data)"
   ]
  },
  {
   "cell_type": "markdown",
   "metadata": {},
   "source": [
    "Display `tweets_from_disk` as a DataFrame."
   ]
  },
  {
   "cell_type": "code",
   "execution_count": 33,
   "metadata": {
    "scrolled": false
   },
   "outputs": [
    {
     "data": {
      "text/html": [
       "<div>\n",
       "<style scoped>\n",
       "    .dataframe tbody tr th:only-of-type {\n",
       "        vertical-align: middle;\n",
       "    }\n",
       "\n",
       "    .dataframe tbody tr th {\n",
       "        vertical-align: top;\n",
       "    }\n",
       "\n",
       "    .dataframe thead th {\n",
       "        text-align: right;\n",
       "    }\n",
       "</style>\n",
       "<table border=\"1\" class=\"dataframe\">\n",
       "  <thead>\n",
       "    <tr style=\"text-align: right;\">\n",
       "      <th></th>\n",
       "      <th>contributors</th>\n",
       "      <th>coordinates</th>\n",
       "      <th>created_at</th>\n",
       "      <th>display_text_range</th>\n",
       "      <th>entities</th>\n",
       "      <th>extended_tweet</th>\n",
       "      <th>favorite_count</th>\n",
       "      <th>favorited</th>\n",
       "      <th>filter_level</th>\n",
       "      <th>geo</th>\n",
       "      <th>...</th>\n",
       "      <th>quoted_status_id_str</th>\n",
       "      <th>quoted_status_permalink</th>\n",
       "      <th>reply_count</th>\n",
       "      <th>retweet_count</th>\n",
       "      <th>retweeted</th>\n",
       "      <th>source</th>\n",
       "      <th>text</th>\n",
       "      <th>timestamp_ms</th>\n",
       "      <th>truncated</th>\n",
       "      <th>user</th>\n",
       "    </tr>\n",
       "  </thead>\n",
       "  <tbody>\n",
       "    <tr>\n",
       "      <th>0</th>\n",
       "      <td>None</td>\n",
       "      <td>None</td>\n",
       "      <td>Thu Jul 19 18:04:00 +0000 2018</td>\n",
       "      <td>[11, 27]</td>\n",
       "      <td>{'hashtags': [], 'urls': [], 'user_mentions': ...</td>\n",
       "      <td>NaN</td>\n",
       "      <td>0</td>\n",
       "      <td>False</td>\n",
       "      <td>low</td>\n",
       "      <td>None</td>\n",
       "      <td>...</td>\n",
       "      <td>NaN</td>\n",
       "      <td>NaN</td>\n",
       "      <td>0</td>\n",
       "      <td>0</td>\n",
       "      <td>False</td>\n",
       "      <td>&lt;a href=\"http://twitter.com/download/iphone\" r...</td>\n",
       "      <td>@Milesba03 hahahha sayo lol</td>\n",
       "      <td>1532023440797</td>\n",
       "      <td>False</td>\n",
       "      <td>{'id': 802140424181682176, 'id_str': '80214042...</td>\n",
       "    </tr>\n",
       "    <tr>\n",
       "      <th>1</th>\n",
       "      <td>None</td>\n",
       "      <td>None</td>\n",
       "      <td>Thu Jul 19 18:04:03 +0000 2018</td>\n",
       "      <td>NaN</td>\n",
       "      <td>{'hashtags': [], 'urls': [], 'user_mentions': ...</td>\n",
       "      <td>NaN</td>\n",
       "      <td>0</td>\n",
       "      <td>False</td>\n",
       "      <td>low</td>\n",
       "      <td>None</td>\n",
       "      <td>...</td>\n",
       "      <td>1019704234881658880</td>\n",
       "      <td>{'url': 'https://t.co/oMF8akZusb', 'expanded':...</td>\n",
       "      <td>0</td>\n",
       "      <td>0</td>\n",
       "      <td>False</td>\n",
       "      <td>&lt;a href=\"http://twitter.com/download/iphone\" r...</td>\n",
       "      <td>Bitch I cried to ramon ayala already when I wa...</td>\n",
       "      <td>1532023443488</td>\n",
       "      <td>False</td>\n",
       "      <td>{'id': 715592844, 'id_str': '715592844', 'name...</td>\n",
       "    </tr>\n",
       "    <tr>\n",
       "      <th>2</th>\n",
       "      <td>None</td>\n",
       "      <td>None</td>\n",
       "      <td>Thu Jul 19 18:04:04 +0000 2018</td>\n",
       "      <td>NaN</td>\n",
       "      <td>{'hashtags': [], 'urls': [{'url': 'https://t.c...</td>\n",
       "      <td>{'full_text': '\"Israel has set Friday as a dea...</td>\n",
       "      <td>0</td>\n",
       "      <td>False</td>\n",
       "      <td>low</td>\n",
       "      <td>None</td>\n",
       "      <td>...</td>\n",
       "      <td>NaN</td>\n",
       "      <td>NaN</td>\n",
       "      <td>0</td>\n",
       "      <td>0</td>\n",
       "      <td>False</td>\n",
       "      <td>&lt;a href=\"http://twitter.com\" rel=\"nofollow\"&gt;Tw...</td>\n",
       "      <td>\"Israel has set Friday as a deadline for the f...</td>\n",
       "      <td>1532023444345</td>\n",
       "      <td>True</td>\n",
       "      <td>{'id': 22557797, 'id_str': '22557797', 'name':...</td>\n",
       "    </tr>\n",
       "    <tr>\n",
       "      <th>3</th>\n",
       "      <td>None</td>\n",
       "      <td>None</td>\n",
       "      <td>Thu Jul 19 18:04:07 +0000 2018</td>\n",
       "      <td>[12, 42]</td>\n",
       "      <td>{'hashtags': [], 'urls': [], 'user_mentions': ...</td>\n",
       "      <td>NaN</td>\n",
       "      <td>0</td>\n",
       "      <td>False</td>\n",
       "      <td>low</td>\n",
       "      <td>None</td>\n",
       "      <td>...</td>\n",
       "      <td>NaN</td>\n",
       "      <td>NaN</td>\n",
       "      <td>0</td>\n",
       "      <td>0</td>\n",
       "      <td>False</td>\n",
       "      <td>&lt;a href=\"http://twitter.com/download/android\" ...</td>\n",
       "      <td>@BabyGo2014 Same too you...Good Morning❤❤❤</td>\n",
       "      <td>1532023447441</td>\n",
       "      <td>False</td>\n",
       "      <td>{'id': 852336260886560768, 'id_str': '85233626...</td>\n",
       "    </tr>\n",
       "    <tr>\n",
       "      <th>4</th>\n",
       "      <td>None</td>\n",
       "      <td>None</td>\n",
       "      <td>Thu Jul 19 18:04:08 +0000 2018</td>\n",
       "      <td>NaN</td>\n",
       "      <td>{'hashtags': [], 'urls': [], 'user_mentions': ...</td>\n",
       "      <td>NaN</td>\n",
       "      <td>0</td>\n",
       "      <td>False</td>\n",
       "      <td>low</td>\n",
       "      <td>None</td>\n",
       "      <td>...</td>\n",
       "      <td>NaN</td>\n",
       "      <td>NaN</td>\n",
       "      <td>0</td>\n",
       "      <td>0</td>\n",
       "      <td>False</td>\n",
       "      <td>&lt;a href=\"http://twitter.com/download/iphone\" r...</td>\n",
       "      <td>Fucked up and got your muthafuckin throat cut ...</td>\n",
       "      <td>1532023448355</td>\n",
       "      <td>False</td>\n",
       "      <td>{'id': 35177564, 'id_str': '35177564', 'name':...</td>\n",
       "    </tr>\n",
       "    <tr>\n",
       "      <th>5</th>\n",
       "      <td>None</td>\n",
       "      <td>None</td>\n",
       "      <td>Thu Jul 19 18:04:08 +0000 2018</td>\n",
       "      <td>[15, 140]</td>\n",
       "      <td>{'hashtags': [], 'urls': [{'url': 'https://t.c...</td>\n",
       "      <td>{'full_text': '@RobertaSchell That's amazing! ...</td>\n",
       "      <td>0</td>\n",
       "      <td>False</td>\n",
       "      <td>low</td>\n",
       "      <td>None</td>\n",
       "      <td>...</td>\n",
       "      <td>NaN</td>\n",
       "      <td>NaN</td>\n",
       "      <td>0</td>\n",
       "      <td>0</td>\n",
       "      <td>False</td>\n",
       "      <td>&lt;a href=\"http://twitter.com/download/android\" ...</td>\n",
       "      <td>@RobertaSchell That's amazing!  She must have ...</td>\n",
       "      <td>1532023448409</td>\n",
       "      <td>True</td>\n",
       "      <td>{'id': 328580325, 'id_str': '328580325', 'name...</td>\n",
       "    </tr>\n",
       "    <tr>\n",
       "      <th>6</th>\n",
       "      <td>None</td>\n",
       "      <td>None</td>\n",
       "      <td>Thu Jul 19 18:04:08 +0000 2018</td>\n",
       "      <td>NaN</td>\n",
       "      <td>{'hashtags': [], 'urls': [], 'user_mentions': ...</td>\n",
       "      <td>NaN</td>\n",
       "      <td>0</td>\n",
       "      <td>False</td>\n",
       "      <td>low</td>\n",
       "      <td>None</td>\n",
       "      <td>...</td>\n",
       "      <td>NaN</td>\n",
       "      <td>NaN</td>\n",
       "      <td>0</td>\n",
       "      <td>0</td>\n",
       "      <td>False</td>\n",
       "      <td>&lt;a href=\"http://twitter.com/download/iphone\" r...</td>\n",
       "      <td>@LILUZIVERT has all the metal cred he’s going ...</td>\n",
       "      <td>1532023448585</td>\n",
       "      <td>False</td>\n",
       "      <td>{'id': 111717885, 'id_str': '111717885', 'name...</td>\n",
       "    </tr>\n",
       "    <tr>\n",
       "      <th>7</th>\n",
       "      <td>None</td>\n",
       "      <td>None</td>\n",
       "      <td>Thu Jul 19 18:04:12 +0000 2018</td>\n",
       "      <td>NaN</td>\n",
       "      <td>{'hashtags': [], 'urls': [], 'user_mentions': ...</td>\n",
       "      <td>NaN</td>\n",
       "      <td>0</td>\n",
       "      <td>False</td>\n",
       "      <td>low</td>\n",
       "      <td>None</td>\n",
       "      <td>...</td>\n",
       "      <td>NaN</td>\n",
       "      <td>NaN</td>\n",
       "      <td>0</td>\n",
       "      <td>0</td>\n",
       "      <td>False</td>\n",
       "      <td>&lt;a href=\"http://twitter.com/download/iphone\" r...</td>\n",
       "      <td>Plans for after work: Catch a Mew Two and begi...</td>\n",
       "      <td>1532023452800</td>\n",
       "      <td>False</td>\n",
       "      <td>{'id': 35567772, 'id_str': '35567772', 'name':...</td>\n",
       "    </tr>\n",
       "    <tr>\n",
       "      <th>8</th>\n",
       "      <td>None</td>\n",
       "      <td>None</td>\n",
       "      <td>Thu Jul 19 18:04:12 +0000 2018</td>\n",
       "      <td>NaN</td>\n",
       "      <td>{'hashtags': [], 'urls': [], 'user_mentions': ...</td>\n",
       "      <td>NaN</td>\n",
       "      <td>0</td>\n",
       "      <td>False</td>\n",
       "      <td>low</td>\n",
       "      <td>None</td>\n",
       "      <td>...</td>\n",
       "      <td>NaN</td>\n",
       "      <td>NaN</td>\n",
       "      <td>0</td>\n",
       "      <td>0</td>\n",
       "      <td>False</td>\n",
       "      <td>&lt;a href=\"http://twitter.com/download/iphone\" r...</td>\n",
       "      <td>I started ignoring that bitch lmao she went crazy</td>\n",
       "      <td>1532023452832</td>\n",
       "      <td>False</td>\n",
       "      <td>{'id': 468637562, 'id_str': '468637562', 'name...</td>\n",
       "    </tr>\n",
       "    <tr>\n",
       "      <th>9</th>\n",
       "      <td>None</td>\n",
       "      <td>None</td>\n",
       "      <td>Thu Jul 19 18:04:13 +0000 2018</td>\n",
       "      <td>[6, 43]</td>\n",
       "      <td>{'hashtags': [{'text': 'TNR', 'indices': [39, ...</td>\n",
       "      <td>NaN</td>\n",
       "      <td>0</td>\n",
       "      <td>False</td>\n",
       "      <td>low</td>\n",
       "      <td>None</td>\n",
       "      <td>...</td>\n",
       "      <td>NaN</td>\n",
       "      <td>NaN</td>\n",
       "      <td>0</td>\n",
       "      <td>0</td>\n",
       "      <td>False</td>\n",
       "      <td>&lt;a href=\"http://twitter.com/download/iphone\" r...</td>\n",
       "      <td>@dodo Keep up the good work Trap King 🐱#TNR</td>\n",
       "      <td>1532023453753</td>\n",
       "      <td>False</td>\n",
       "      <td>{'id': 60778052, 'id_str': '60778052', 'name':...</td>\n",
       "    </tr>\n",
       "  </tbody>\n",
       "</table>\n",
       "<p>10 rows × 33 columns</p>\n",
       "</div>"
      ],
      "text/plain": [
       "  contributors coordinates                      created_at display_text_range  \\\n",
       "0         None        None  Thu Jul 19 18:04:00 +0000 2018           [11, 27]   \n",
       "1         None        None  Thu Jul 19 18:04:03 +0000 2018                NaN   \n",
       "2         None        None  Thu Jul 19 18:04:04 +0000 2018                NaN   \n",
       "3         None        None  Thu Jul 19 18:04:07 +0000 2018           [12, 42]   \n",
       "4         None        None  Thu Jul 19 18:04:08 +0000 2018                NaN   \n",
       "5         None        None  Thu Jul 19 18:04:08 +0000 2018          [15, 140]   \n",
       "6         None        None  Thu Jul 19 18:04:08 +0000 2018                NaN   \n",
       "7         None        None  Thu Jul 19 18:04:12 +0000 2018                NaN   \n",
       "8         None        None  Thu Jul 19 18:04:12 +0000 2018                NaN   \n",
       "9         None        None  Thu Jul 19 18:04:13 +0000 2018            [6, 43]   \n",
       "\n",
       "                                            entities  \\\n",
       "0  {'hashtags': [], 'urls': [], 'user_mentions': ...   \n",
       "1  {'hashtags': [], 'urls': [], 'user_mentions': ...   \n",
       "2  {'hashtags': [], 'urls': [{'url': 'https://t.c...   \n",
       "3  {'hashtags': [], 'urls': [], 'user_mentions': ...   \n",
       "4  {'hashtags': [], 'urls': [], 'user_mentions': ...   \n",
       "5  {'hashtags': [], 'urls': [{'url': 'https://t.c...   \n",
       "6  {'hashtags': [], 'urls': [], 'user_mentions': ...   \n",
       "7  {'hashtags': [], 'urls': [], 'user_mentions': ...   \n",
       "8  {'hashtags': [], 'urls': [], 'user_mentions': ...   \n",
       "9  {'hashtags': [{'text': 'TNR', 'indices': [39, ...   \n",
       "\n",
       "                                      extended_tweet  favorite_count  \\\n",
       "0                                                NaN               0   \n",
       "1                                                NaN               0   \n",
       "2  {'full_text': '\"Israel has set Friday as a dea...               0   \n",
       "3                                                NaN               0   \n",
       "4                                                NaN               0   \n",
       "5  {'full_text': '@RobertaSchell That's amazing! ...               0   \n",
       "6                                                NaN               0   \n",
       "7                                                NaN               0   \n",
       "8                                                NaN               0   \n",
       "9                                                NaN               0   \n",
       "\n",
       "   favorited filter_level   geo  \\\n",
       "0      False          low  None   \n",
       "1      False          low  None   \n",
       "2      False          low  None   \n",
       "3      False          low  None   \n",
       "4      False          low  None   \n",
       "5      False          low  None   \n",
       "6      False          low  None   \n",
       "7      False          low  None   \n",
       "8      False          low  None   \n",
       "9      False          low  None   \n",
       "\n",
       "                         ...                          quoted_status_id_str  \\\n",
       "0                        ...                                           NaN   \n",
       "1                        ...                           1019704234881658880   \n",
       "2                        ...                                           NaN   \n",
       "3                        ...                                           NaN   \n",
       "4                        ...                                           NaN   \n",
       "5                        ...                                           NaN   \n",
       "6                        ...                                           NaN   \n",
       "7                        ...                                           NaN   \n",
       "8                        ...                                           NaN   \n",
       "9                        ...                                           NaN   \n",
       "\n",
       "                             quoted_status_permalink reply_count  \\\n",
       "0                                                NaN           0   \n",
       "1  {'url': 'https://t.co/oMF8akZusb', 'expanded':...           0   \n",
       "2                                                NaN           0   \n",
       "3                                                NaN           0   \n",
       "4                                                NaN           0   \n",
       "5                                                NaN           0   \n",
       "6                                                NaN           0   \n",
       "7                                                NaN           0   \n",
       "8                                                NaN           0   \n",
       "9                                                NaN           0   \n",
       "\n",
       "   retweet_count retweeted                                             source  \\\n",
       "0              0     False  <a href=\"http://twitter.com/download/iphone\" r...   \n",
       "1              0     False  <a href=\"http://twitter.com/download/iphone\" r...   \n",
       "2              0     False  <a href=\"http://twitter.com\" rel=\"nofollow\">Tw...   \n",
       "3              0     False  <a href=\"http://twitter.com/download/android\" ...   \n",
       "4              0     False  <a href=\"http://twitter.com/download/iphone\" r...   \n",
       "5              0     False  <a href=\"http://twitter.com/download/android\" ...   \n",
       "6              0     False  <a href=\"http://twitter.com/download/iphone\" r...   \n",
       "7              0     False  <a href=\"http://twitter.com/download/iphone\" r...   \n",
       "8              0     False  <a href=\"http://twitter.com/download/iphone\" r...   \n",
       "9              0     False  <a href=\"http://twitter.com/download/iphone\" r...   \n",
       "\n",
       "                                                text   timestamp_ms truncated  \\\n",
       "0                        @Milesba03 hahahha sayo lol  1532023440797     False   \n",
       "1  Bitch I cried to ramon ayala already when I wa...  1532023443488     False   \n",
       "2  \"Israel has set Friday as a deadline for the f...  1532023444345      True   \n",
       "3         @BabyGo2014 Same too you...Good Morning❤❤❤  1532023447441     False   \n",
       "4  Fucked up and got your muthafuckin throat cut ...  1532023448355     False   \n",
       "5  @RobertaSchell That's amazing!  She must have ...  1532023448409      True   \n",
       "6  @LILUZIVERT has all the metal cred he’s going ...  1532023448585     False   \n",
       "7  Plans for after work: Catch a Mew Two and begi...  1532023452800     False   \n",
       "8  I started ignoring that bitch lmao she went crazy  1532023452832     False   \n",
       "9        @dodo Keep up the good work Trap King 🐱#TNR  1532023453753     False   \n",
       "\n",
       "                                                user  \n",
       "0  {'id': 802140424181682176, 'id_str': '80214042...  \n",
       "1  {'id': 715592844, 'id_str': '715592844', 'name...  \n",
       "2  {'id': 22557797, 'id_str': '22557797', 'name':...  \n",
       "3  {'id': 852336260886560768, 'id_str': '85233626...  \n",
       "4  {'id': 35177564, 'id_str': '35177564', 'name':...  \n",
       "5  {'id': 328580325, 'id_str': '328580325', 'name...  \n",
       "6  {'id': 111717885, 'id_str': '111717885', 'name...  \n",
       "7  {'id': 35567772, 'id_str': '35567772', 'name':...  \n",
       "8  {'id': 468637562, 'id_str': '468637562', 'name...  \n",
       "9  {'id': 60778052, 'id_str': '60778052', 'name':...  \n",
       "\n",
       "[10 rows x 33 columns]"
      ]
     },
     "execution_count": 33,
     "metadata": {},
     "output_type": "execute_result"
    }
   ],
   "source": [
    "pd.DataFrame(tweets_from_disk)"
   ]
  },
  {
   "cell_type": "code",
   "execution_count": null,
   "metadata": {},
   "outputs": [],
   "source": []
  }
 ],
 "metadata": {
  "kernelspec": {
   "display_name": "Python 3",
   "language": "python",
   "name": "python3"
  },
  "language_info": {
   "codemirror_mode": {
    "name": "ipython",
    "version": 3
   },
   "file_extension": ".py",
   "mimetype": "text/x-python",
   "name": "python",
   "nbconvert_exporter": "python",
   "pygments_lexer": "ipython3",
   "version": "3.6.5"
  }
 },
 "nbformat": 4,
 "nbformat_minor": 2
}
